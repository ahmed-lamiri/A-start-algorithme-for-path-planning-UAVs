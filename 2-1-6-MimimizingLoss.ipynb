{
  "cells": [
    {
      "cell_type": "code",
      "execution_count": 1,
      "metadata": {
        "id": "gtmQDB6EjReV"
      },
      "outputs": [],
      "source": [
        "# First import the functions we will need\n",
        "import sys\n",
        "\n",
        "import numpy as np\n",
        "import tensorflow as tf\n",
        "import matplotlib.pyplot as plt"
      ]
    },
    {
      "cell_type": "code",
      "execution_count": 2,
      "metadata": {
        "id": "NeCTB9sT8Qgm"
      },
      "outputs": [],
      "source": [
        "# This script requires TensorFlow 2 and Python 3.\n",
        "if tf.__version__.split('.')[0] != '2':\n",
        "    raise Exception((f\"The script is developed and tested for tensorflow 2. \"\n",
        "                     f\"Current version: {tf.__version__}\"))\n",
        "\n",
        "if sys.version_info.major < 3:\n",
        "    raise Exception((f\"The script is developed and tested for Python 3. \"\n",
        "                     f\"Current version: {sys.version_info.major}\"))\n"
      ]
    },
    {
      "cell_type": "markdown",
      "metadata": {
        "id": "9O5-58WYokl3"
      },
      "source": [
        "# GradientTape\n",
        "\n",
        "The Calculus is managed by a TensorFlow Gradient Tape. You can learn more about the gradient tape at https://www.tensorflow.org/api_docs/python/tf/GradientTape, and we will discuss it later in the course."
      ]
    },
    {
      "cell_type": "code",
      "execution_count": 3,
      "metadata": {
        "id": "JdhgbGE2j02L"
      },
      "outputs": [],
      "source": [
        "# Define our initial guess\n",
        "INITIAL_W = 10.0\n",
        "INITIAL_B = 10.0\n",
        "\n",
        "# Define our loss function\n",
        "def loss(predicted_y, target_y):\n",
        "  return tf.reduce_mean(tf.square(predicted_y - target_y))\n",
        "\n",
        "# Define our training procedure\n",
        "def train(model, inputs, outputs, learning_rate):\n",
        "  with tf.GradientTape() as t:\n",
        "    current_loss = loss(model(inputs), outputs)\n",
        "    # Here is where you differentiate the model values with respect to the loss function\n",
        "    dw, db = t.gradient(current_loss, [model.w, model.b])\n",
        "    # And here is where you update the model values based on the learning rate chosen\n",
        "    model.w.assign_sub(learning_rate * dw)\n",
        "    model.b.assign_sub(learning_rate * db)\n",
        "    return current_loss\n",
        "\n",
        "# Define our simple linear regression model\n",
        "class Model(object):\n",
        "  def __init__(self):\n",
        "    # Initialize the weights\n",
        "    self.w = tf.Variable(INITIAL_W)\n",
        "    self.b = tf.Variable(INITIAL_B)\n",
        "\n",
        "  def __call__(self, x):\n",
        "    return self.w * x + self.b"
      ]
    },
    {
      "cell_type": "markdown",
      "metadata": {
        "id": "BJqCSeid8Qgo"
      },
      "source": [
        "### Train our model"
      ]
    },
    {
      "cell_type": "code",
      "execution_count": 6,
      "metadata": {
        "colab": {
          "base_uri": "https://localhost:8080/"
        },
        "id": "8akmDCoAjgak",
        "outputId": "748bde68-9962-4522-e7c1-d90613ba7c24"
      },
      "outputs": [
        {
          "output_type": "stream",
          "name": "stdout",
          "text": [
            "Epoch  0: w=10.00 b=10.00, loss=715.66669\n",
            "Epoch  1: w=-1.57 b=5.40, loss=38.20575\n",
            "Epoch  2: w=0.20 b=5.19, loss=21.63014\n",
            "Epoch  3: w=0.20 b=4.49, loss=17.24073\n",
            "Epoch  4: w=0.41 b=3.93, loss=13.86214\n",
            "Epoch  5: w=0.57 b=3.42, loss=11.14769\n",
            "Epoch  6: w=0.72 b=2.97, loss=8.96482\n",
            "Epoch  7: w=0.85 b=2.56, loss=7.20938\n",
            "Epoch  8: w=0.97 b=2.19, loss=5.79768\n",
            "Epoch  9: w=1.08 b=1.86, loss=4.66241\n",
            "Epoch 10: w=1.17 b=1.57, loss=3.74944\n",
            "Epoch 11: w=1.26 b=1.30, loss=3.01525\n",
            "Epoch 12: w=1.33 b=1.06, loss=2.42482\n",
            "Epoch 13: w=1.40 b=0.85, loss=1.95001\n",
            "Epoch 14: w=1.46 b=0.66, loss=1.56817\n",
            "Epoch 15: w=1.52 b=0.49, loss=1.26110\n",
            "Epoch 16: w=1.57 b=0.33, loss=1.01416\n",
            "Epoch 17: w=1.61 b=0.20, loss=0.81557\n",
            "Epoch 18: w=1.65 b=0.07, loss=0.65587\n",
            "Epoch 19: w=1.69 b=-0.04, loss=0.52744\n",
            "Epoch 20: w=1.72 b=-0.14, loss=0.42416\n",
            "Epoch 21: w=1.75 b=-0.23, loss=0.34110\n",
            "Epoch 22: w=1.78 b=-0.31, loss=0.27431\n",
            "Epoch 23: w=1.80 b=-0.38, loss=0.22060\n",
            "Epoch 24: w=1.82 b=-0.44, loss=0.17740\n",
            "Epoch 25: w=1.84 b=-0.50, loss=0.14266\n",
            "Epoch 26: w=1.86 b=-0.55, loss=0.11473\n",
            "Epoch 27: w=1.87 b=-0.60, loss=0.09226\n",
            "Epoch 28: w=1.88 b=-0.64, loss=0.07420\n",
            "Epoch 29: w=1.90 b=-0.68, loss=0.05967\n",
            "Epoch 30: w=1.91 b=-0.71, loss=0.04798\n",
            "Epoch 31: w=1.92 b=-0.74, loss=0.03859\n",
            "Epoch 32: w=1.92 b=-0.77, loss=0.03103\n",
            "Epoch 33: w=1.93 b=-0.79, loss=0.02496\n",
            "Epoch 34: w=1.94 b=-0.81, loss=0.02007\n",
            "Epoch 35: w=1.95 b=-0.83, loss=0.01614\n",
            "Epoch 36: w=1.95 b=-0.85, loss=0.01298\n",
            "Epoch 37: w=1.96 b=-0.86, loss=0.01044\n",
            "Epoch 38: w=1.96 b=-0.88, loss=0.00839\n",
            "Epoch 39: w=1.96 b=-0.89, loss=0.00675\n",
            "Epoch 40: w=1.97 b=-0.90, loss=0.00543\n",
            "Epoch 41: w=1.97 b=-0.91, loss=0.00437\n",
            "Epoch 42: w=1.97 b=-0.92, loss=0.00351\n",
            "Epoch 43: w=1.98 b=-0.93, loss=0.00282\n",
            "Epoch 44: w=1.98 b=-0.94, loss=0.00227\n",
            "Epoch 45: w=1.98 b=-0.94, loss=0.00183\n",
            "Epoch 46: w=1.98 b=-0.95, loss=0.00147\n",
            "Epoch 47: w=1.99 b=-0.95, loss=0.00118\n",
            "Epoch 48: w=1.99 b=-0.96, loss=0.00095\n",
            "Epoch 49: w=1.99 b=-0.96, loss=0.00076\n"
          ]
        }
      ],
      "source": [
        "# Define our input data and learning rate\n",
        "xs = [-1.0, 0.0, 1.0, 2.0, 3.0, 4.0]\n",
        "ys = [-3.0, -1.0, 1.0, 3.0, 5.0, 7.0]\n",
        "LEARNING_RATE=0.1\n",
        "\n",
        "# Instantiate our model\n",
        "model = Model()\n",
        "\n",
        "# Collect the history of w-values and b-values to plot later\n",
        "list_w, list_b = [], []\n",
        "epochs = range(50)\n",
        "losses = []\n",
        "for epoch in epochs:\n",
        "  list_w.append(model.w.numpy())\n",
        "  list_b.append(model.b.numpy())\n",
        "  current_loss = train(model, xs, ys, learning_rate=LEARNING_RATE)\n",
        "  losses.append(current_loss)\n",
        "  print(f\"Epoch {epoch:2d}: w={list_w[-1]:1.2f} b={list_b[-1]:1.2f}, \"\n",
        "        f\"loss={current_loss:2.5f}\")"
      ]
    },
    {
      "cell_type": "markdown",
      "metadata": {
        "id": "0EgNaVhw8Qgo"
      },
      "source": [
        "### Plot our trained values over time"
      ]
    },
    {
      "cell_type": "code",
      "execution_count": 7,
      "metadata": {
        "colab": {
          "base_uri": "https://localhost:8080/",
          "height": 430
        },
        "id": "HGgb5grSk8Ax",
        "outputId": "904a5056-dc14-4327-d301-a8c62d0a2151"
      },
      "outputs": [
        {
          "output_type": "display_data",
          "data": {
            "text/plain": [
              "<Figure size 640x480 with 1 Axes>"
            ],
            "image/png": "[encoded data removed]"
          },
          "metadata": {}
        }
      ],
      "source": [
        "# Plot the w-values and b-values for each training Epoch against the true values\n",
        "TRUE_w = 2.0\n",
        "TRUE_b = -1.0\n",
        "plt.plot(epochs, list_w, 'r', epochs, list_b, 'b')\n",
        "plt.plot([TRUE_w] * len(epochs), 'r--', [TRUE_b] * len(epochs), 'b--')\n",
        "plt.legend(['w', 'b', 'True w', 'True b'])\n",
        "plt.show()"
      ]
    },
    {
      "cell_type": "code",
      "source": [],
      "metadata": {
        "id": "9hJxMNW48_E8"
      },
      "execution_count": null,
      "outputs": []
    }
  ],
  "metadata": {
    "colab": {
      "name": "Mimimizing-Loss.ipynb",
      "provenance": []
    },
    "kernelspec": {
      "display_name": "Python 3",
      "language": "python",
      "name": "python3"
    },
    "language_info": {
      "codemirror_mode": {
        "name": "ipython",
        "version": 3
      },
      "file_extension": ".py",
      "mimetype": "text/x-python",
      "name": "python",
      "nbconvert_exporter": "python",
      "pygments_lexer": "ipython3",
      "version": "3.10.11"
    }
  },
  "nbformat": 4,
  "nbformat_minor": 0
}